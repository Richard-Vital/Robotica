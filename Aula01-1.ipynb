{
 "cells": [
  {
   "cell_type": "markdown",
   "metadata": {
    "collapsed": false
   },
   "source": [
    "   # Olá,  nossa primeira aula de python-jupyter!!\"\n",
    "\n",
    "   Inicialmente vamos instalar o jupyter no Linux.\n",
    "   Acessem o link: http://jupyter.org/\"\n",
    "\n",
    "   A linguagem que eu estou usando para montar a página da internet é o Markdown.\\n\",\n",
    "   Para saber mais acesse esses dois links: https://pt.wikipedia.org/wiki/Markdown\"\n",
    "\n",
    "    \n",
    "\n"
   ]
  },
  {
   "cell_type": "markdown",
   "metadata": {},
   "source": [
    "## Como usar o Jupyter no Windows?\n",
    "\n",
    "\n",
    "Podemos usar o jupyter sem instalar tanto no Windows quanto no Linux.\n",
    "\n",
    "O projeto SagemathCloud oferece um ambiente online para programação profissional na áreas de matemática, física, química e engenharias.\n",
    "\n",
    "Acesse o site: https://cloud.sagemath.com/\n",
    "\n",
    "Crie uma conta com seu nome e senha. Você póderá criar sua conta usando os dados do seu facebook\n",
    "\n",
    "\n"
   ]
  },
  {
   "cell_type": "markdown",
   "metadata": {},
   "source": [
    "### No ambiente do Sagemath\n",
    "\n",
    "Criada a conta você pode criar um rpojeto, uma pasta onde ficará seus estudos e experiências.\n",
    "\n",
    "Depois do projeto criado vc poderá criar vários tipos de arquivos em várias linguagens de programação e incluse criar um projeto jupyter clicando no botão CREATE!!\n",
    "\n"
   ]
  },
  {
   "cell_type": "markdown",
   "metadata": {},
   "source": [
    "# Vamos programar!!!"
   ]
  },
  {
   "cell_type": "code",
   "execution_count": null,
   "metadata": {
    "collapsed": false
   },
   "outputs": [],
   "source": [
    "print(\"ola\")\n",
    "\n",
    "alguma_coisa =input( \"digite aqui...\")\n",
    "\n",
    "print(alguma_coisa)"
   ]
  },
  {
   "cell_type": "code",
   "execution_count": null,
   "metadata": {
    "collapsed": true
   },
   "outputs": [],
   "source": [
    "print (\"ola\" )\n",
    "\n",
    "lista = ['casa', 'bateria', 'bebida']\n",
    "\n",
    "for lista in lista:\n",
    "    print (lista)\n"
   ]
  },
  {
   "cell_type": "code",
   "execution_count": null,
   "metadata": {
    "collapsed": true
   },
   "outputs": [],
   "source": [
    "import urllib.request, urllib.parse, urllib.error\n",
    " \n",
    "url = 'https://scontent.fsjk1-1.fna.fbcdn.net/v/t1.0-9/12654574_1112262048814484_6109392135409345081_n.jpg?oh=873c95dbc661782c3ce93e54d605460b&oe=581BC335'\n",
    " \n",
    "print(\"baixando com urllib\")\n",
    "urllib.request.urlretrieve(url, \"13.jpg\")\n",
    " \n",
    "print(\"baixando com urllib2\")\n",
    "f = urllib.request.urlopen(url)\n",
    "data = f.read()\n",
    "with open(\"13.jpg\", \"wb\") as code:\n",
    "    code.write(data)"
   ]
  },
  {
   "cell_type": "code",
   "execution_count": null,
   "metadata": {
    "collapsed": true
   },
   "outputs": [],
   "source": []
  }
 ],
 "metadata": {
  "kernelspec": {
   "display_name": "Python 2 (SageMath)",
   "language": "python",
   "name": "python2"
  },
  "language_info": {
   "codemirror_mode": {
    "name": "ipython",
    "version": 2
   },
   "file_extension": ".py",
   "mimetype": "text/x-python",
   "name": "python",
   "nbconvert_exporter": "python",
   "pygments_lexer": "ipython2",
   "version": "2.7.10"
  }
 },
 "nbformat": 4,
 "nbformat_minor": 0
}
